{
 "cells": [
  {
   "cell_type": "markdown",
   "id": "e7bdb63d",
   "metadata": {},
   "source": [
    "8+9"
   ]
  },
  {
   "cell_type": "code",
   "execution_count": 2,
   "id": "a43dac1f",
   "metadata": {},
   "outputs": [],
   "source": [
    "import neurolab"
   ]
  },
  {
   "cell_type": "code",
   "execution_count": 1,
   "id": "4ea00e1f",
   "metadata": {},
   "outputs": [],
   "source": [
    "import numpy as np\n",
    "import neurolab as nl"
   ]
  },
  {
   "cell_type": "code",
   "execution_count": 2,
   "id": "f43133b2",
   "metadata": {},
   "outputs": [],
   "source": [
    "inp = np.array([[0,0],[0,1],[1,0],[1,1]])\n",
    "target = np.array([[0],[0],[1],[1]])"
   ]
  },
  {
   "cell_type": "code",
   "execution_count": 3,
   "id": "ac1b2c83",
   "metadata": {},
   "outputs": [
    {
     "name": "stdout",
     "output_type": "stream",
     "text": [
      "The goal of learning is reached\n"
     ]
    },
    {
     "data": {
      "text/plain": [
       "[1.0, 1.0, 0.0]"
      ]
     },
     "execution_count": 3,
     "metadata": {},
     "output_type": "execute_result"
    }
   ],
   "source": [
    "#Создаем однослойный перцептрон с двумя входами 0(1) и одним выходом\n",
    "MyNet = nl.net.newp([[0,1],[0,1]], 1)\n",
    "\n",
    "#Обучаем однослойный перцептрон\n",
    "MyNet.train(inp, target, epochs = 100, show = 10, goal = 0.01, lr = 0.1)"
   ]
  },
  {
   "cell_type": "code",
   "execution_count": 7,
   "id": "bb3286d8",
   "metadata": {},
   "outputs": [
    {
     "name": "stdout",
     "output_type": "stream",
     "text": [
      "[[0.]]\n",
      "[[0.]]\n",
      "[[1.]]\n",
      "[[1.]]\n"
     ]
    }
   ],
   "source": [
    "for i in inp:\n",
    "    print(MyNet.sim([i]))"
   ]
  },
  {
   "cell_type": "code",
   "execution_count": 8,
   "id": "44a4feee",
   "metadata": {},
   "outputs": [],
   "source": [
    "inp = np.array([[0,0],[0,1],[1,0],[1,1]])\n",
    "target = np.array([[0],[1],[1],[1]])"
   ]
  },
  {
   "cell_type": "code",
   "execution_count": 9,
   "id": "9af60327",
   "metadata": {},
   "outputs": [
    {
     "name": "stdout",
     "output_type": "stream",
     "text": [
      "The goal of learning is reached\n"
     ]
    },
    {
     "data": {
      "text/plain": [
       "[1.5, 0.5, 0.5, 0.0]"
      ]
     },
     "execution_count": 9,
     "metadata": {},
     "output_type": "execute_result"
    }
   ],
   "source": [
    "#Создаем однослойный перцептрон с двумя входами 0(1) и одним выходом\n",
    "MyNet = nl.net.newp([[0,1],[0,1]], 1)\n",
    "\n",
    "#Обучаем однослойный перцептрон\n",
    "MyNet.train(inp, target, epochs = 100, show = 10, goal = 0.01, lr = 0.1)"
   ]
  },
  {
   "cell_type": "code",
   "execution_count": 10,
   "id": "2f23ebf0",
   "metadata": {},
   "outputs": [],
   "source": [
    "inp = np.array([[0,0],[0,1],[1,0],[1,1]])\n",
    "target = np.array([[0],[0],[0],[1]])"
   ]
  },
  {
   "cell_type": "code",
   "execution_count": 11,
   "id": "c682f1fe",
   "metadata": {},
   "outputs": [
    {
     "name": "stdout",
     "output_type": "stream",
     "text": [
      "The goal of learning is reached\n"
     ]
    },
    {
     "data": {
      "text/plain": [
       "[0.5, 1.5, 1.0, 0.5, 1.0, 0.0]"
      ]
     },
     "execution_count": 11,
     "metadata": {},
     "output_type": "execute_result"
    }
   ],
   "source": [
    "#Создаем однослойный перцептрон с двумя входами 0(1) и одним выходом\n",
    "MyNet = nl.net.newp([[0,1],[0,1]], 1)\n",
    "\n",
    "#Обучаем однослойный перцептрон\n",
    "MyNet.train(inp, target, epochs = 100, show = 10, goal = 0.01, lr = 0.1)"
   ]
  },
  {
   "cell_type": "code",
   "execution_count": 12,
   "id": "cc9b6cad",
   "metadata": {},
   "outputs": [],
   "source": [
    "inp = np.array([[0,0],[0,1],[1,0],[1,1]])\n",
    "target = np.array([[0],[1],[1],[0]])"
   ]
  },
  {
   "cell_type": "code",
   "execution_count": 16,
   "id": "19c0988f",
   "metadata": {},
   "outputs": [
    {
     "name": "stdout",
     "output_type": "stream",
     "text": [
      "Epoch: 10; Error: 1.0;\n",
      "Epoch: 20; Error: 1.0;\n",
      "Epoch: 30; Error: 1.0;\n",
      "Epoch: 40; Error: 1.0;\n",
      "Epoch: 50; Error: 1.0;\n",
      "Epoch: 60; Error: 1.0;\n",
      "Epoch: 70; Error: 1.0;\n",
      "Epoch: 80; Error: 1.0;\n",
      "Epoch: 90; Error: 1.0;\n",
      "Epoch: 100; Error: 1.0;\n",
      "The maximum number of train epochs is reached\n"
     ]
    },
    {
     "data": {
      "text/plain": [
       "[1.0,\n",
       " 1.0,\n",
       " 1.0,\n",
       " 1.0,\n",
       " 1.0,\n",
       " 1.0,\n",
       " 1.0,\n",
       " 1.0,\n",
       " 1.0,\n",
       " 1.0,\n",
       " 1.0,\n",
       " 1.0,\n",
       " 1.0,\n",
       " 1.0,\n",
       " 1.0,\n",
       " 1.0,\n",
       " 1.0,\n",
       " 1.0,\n",
       " 1.0,\n",
       " 1.0,\n",
       " 1.0,\n",
       " 1.0,\n",
       " 1.0,\n",
       " 1.0,\n",
       " 1.0,\n",
       " 1.0,\n",
       " 1.0,\n",
       " 1.0,\n",
       " 1.0,\n",
       " 1.0,\n",
       " 1.0,\n",
       " 1.0,\n",
       " 1.0,\n",
       " 1.0,\n",
       " 1.0,\n",
       " 1.0,\n",
       " 1.0,\n",
       " 1.0,\n",
       " 1.0,\n",
       " 1.0,\n",
       " 1.0,\n",
       " 1.0,\n",
       " 1.0,\n",
       " 1.0,\n",
       " 1.0,\n",
       " 1.0,\n",
       " 1.0,\n",
       " 1.0,\n",
       " 1.0,\n",
       " 1.0,\n",
       " 1.0,\n",
       " 1.0,\n",
       " 1.0,\n",
       " 1.0,\n",
       " 1.0,\n",
       " 1.0,\n",
       " 1.0,\n",
       " 1.0,\n",
       " 1.0,\n",
       " 1.0,\n",
       " 1.0,\n",
       " 1.0,\n",
       " 1.0,\n",
       " 1.0,\n",
       " 1.0,\n",
       " 1.0,\n",
       " 1.0,\n",
       " 1.0,\n",
       " 1.0,\n",
       " 1.0,\n",
       " 1.0,\n",
       " 1.0,\n",
       " 1.0,\n",
       " 1.0,\n",
       " 1.0,\n",
       " 1.0,\n",
       " 1.0,\n",
       " 1.0,\n",
       " 1.0,\n",
       " 1.0,\n",
       " 1.0,\n",
       " 1.0,\n",
       " 1.0,\n",
       " 1.0,\n",
       " 1.0,\n",
       " 1.0,\n",
       " 1.0,\n",
       " 1.0,\n",
       " 1.0,\n",
       " 1.0,\n",
       " 1.0,\n",
       " 1.0,\n",
       " 1.0,\n",
       " 1.0,\n",
       " 1.0,\n",
       " 1.0,\n",
       " 1.0,\n",
       " 1.0,\n",
       " 1.0,\n",
       " 1.0]"
      ]
     },
     "execution_count": 16,
     "metadata": {},
     "output_type": "execute_result"
    }
   ],
   "source": [
    "#Создаем однослойный перцептрон с двумя входами 0(1) и одним выходом\n",
    "MyNet = nl.net.newp([[0,1],[0,1]], 1)\n",
    "\n",
    "#Обучаем однослойный перцептрон\n",
    "MyNet.train(inp, target, epochs = 100, show = 10, goal = 0.01, lr = 0.1)"
   ]
  },
  {
   "cell_type": "code",
   "execution_count": 15,
   "id": "4843ced6",
   "metadata": {},
   "outputs": [
    {
     "name": "stdout",
     "output_type": "stream",
     "text": [
      "[[1.]]\n",
      "[[1.]]\n",
      "[[0.]]\n",
      "[[0.]]\n"
     ]
    }
   ],
   "source": [
    "for i in inp:\n",
    "    print(MyNet.sim([i]))"
   ]
  },
  {
   "cell_type": "code",
   "execution_count": 20,
   "id": "51f25198",
   "metadata": {},
   "outputs": [
    {
     "name": "stderr",
     "output_type": "stream",
     "text": [
      "2025-05-06 12:40:31.257964: I tensorflow/core/util/port.cc:153] oneDNN custom operations are on. You may see slightly different numerical results due to floating-point round-off errors from different computation orders. To turn them off, set the environment variable `TF_ENABLE_ONEDNN_OPTS=0`.\n",
      "2025-05-06 12:40:31.326011: I external/local_xla/xla/tsl/cuda/cudart_stub.cc:32] Could not find cuda drivers on your machine, GPU will not be used.\n",
      "2025-05-06 12:40:31.833071: I external/local_xla/xla/tsl/cuda/cudart_stub.cc:32] Could not find cuda drivers on your machine, GPU will not be used.\n",
      "2025-05-06 12:40:32.074705: E external/local_xla/xla/stream_executor/cuda/cuda_fft.cc:467] Unable to register cuFFT factory: Attempting to register factory for plugin cuFFT when one has already been registered\n",
      "WARNING: All log messages before absl::InitializeLog() is called are written to STDERR\n",
      "E0000 00:00:1746535232.473452   12885 cuda_dnn.cc:8579] Unable to register cuDNN factory: Attempting to register factory for plugin cuDNN when one has already been registered\n",
      "E0000 00:00:1746535232.608765   12885 cuda_blas.cc:1407] Unable to register cuBLAS factory: Attempting to register factory for plugin cuBLAS when one has already been registered\n",
      "W0000 00:00:1746535233.236955   12885 computation_placer.cc:177] computation placer already registered. Please check linkage and avoid linking the same target more than once.\n",
      "W0000 00:00:1746535233.236988   12885 computation_placer.cc:177] computation placer already registered. Please check linkage and avoid linking the same target more than once.\n",
      "W0000 00:00:1746535233.236992   12885 computation_placer.cc:177] computation placer already registered. Please check linkage and avoid linking the same target more than once.\n",
      "W0000 00:00:1746535233.236994   12885 computation_placer.cc:177] computation placer already registered. Please check linkage and avoid linking the same target more than once.\n",
      "2025-05-06 12:40:33.285473: I tensorflow/core/platform/cpu_feature_guard.cc:210] This TensorFlow binary is optimized to use available CPU instructions in performance-critical operations.\n",
      "To enable the following instructions: AVX2 AVX512F AVX512_VNNI FMA, in other operations, rebuild TensorFlow with the appropriate compiler flags.\n"
     ]
    },
    {
     "name": "stdout",
     "output_type": "stream",
     "text": [
      "Downloading data from https://storage.googleapis.com/tensorflow/tf-keras-datasets/mnist.npz\n",
      "\u001b[1m11490434/11490434\u001b[0m \u001b[32m━━━━━━━━━━━━━━━━━━━━\u001b[0m\u001b[37m\u001b[0m \u001b[1m1s\u001b[0m 0us/step\n"
     ]
    }
   ],
   "source": [
    "#Импортируем стандартные датасеты из библиотеки keras\n",
    "from keras.datasets import mnist\n",
    "\n",
    "#Создает обучающую и тестовую выборки\n",
    "(train_images, train_labels), (test_images, test_labels) = mnist.load_data()"
   ]
  },
  {
   "cell_type": "code",
   "execution_count": 21,
   "id": "b29851b4",
   "metadata": {},
   "outputs": [
    {
     "name": "stdout",
     "output_type": "stream",
     "text": [
      "7\n"
     ]
    },
    {
     "data": {
      "image/png": "[encoded data removed]",
      "text/plain": [
       "<Figure size 640x480 with 1 Axes>"
      ]
     },
     "metadata": {},
     "output_type": "display_data"
    },
    {
     "name": "stdout",
     "output_type": "stream",
     "text": [
      "2\n"
     ]
    },
    {
     "data": {
      "image/png": "[encoded data removed]",
      "text/plain": [
       "<Figure size 640x480 with 1 Axes>"
      ]
     },
     "metadata": {},
     "output_type": "display_data"
    },
    {
     "name": "stdout",
     "output_type": "stream",
     "text": [
      "1\n"
     ]
    },
    {
     "data": {
      "image/png": "[encoded data removed]",
      "text/plain": [
       "<Figure size 640x480 with 1 Axes>"
      ]
     },
     "metadata": {},
     "output_type": "display_data"
    },
    {
     "name": "stdout",
     "output_type": "stream",
     "text": [
      "0\n"
     ]
    },
    {
     "data": {
      "image/png": "[encoded data removed]",
      "text/plain": [
       "<Figure size 640x480 with 1 Axes>"
      ]
     },
     "metadata": {},
     "output_type": "display_data"
    },
    {
     "name": "stdout",
     "output_type": "stream",
     "text": [
      "4\n"
     ]
    },
    {
     "data": {
      "image/png": "[encoded data removed]",
      "text/plain": [
       "<Figure size 640x480 with 1 Axes>"
      ]
     },
     "metadata": {},
     "output_type": "display_data"
    },
    {
     "name": "stdout",
     "output_type": "stream",
     "text": [
      "1\n"
     ]
    },
    {
     "data": {
      "image/png": "[encoded data removed]",
      "text/plain": [
       "<Figure size 640x480 with 1 Axes>"
      ]
     },
     "metadata": {},
     "output_type": "display_data"
    },
    {
     "name": "stdout",
     "output_type": "stream",
     "text": [
      "4\n"
     ]
    },
    {
     "data": {
      "image/png": "[encoded data removed]",
      "text/plain": [
       "<Figure size 640x480 with 1 Axes>"
      ]
     },
     "metadata": {},
     "output_type": "display_data"
    },
    {
     "name": "stdout",
     "output_type": "stream",
     "text": [
      "9\n"
     ]
    },
    {
     "data": {
      "image/png": "[encoded data removed]",
      "text/plain": [
       "<Figure size 640x480 with 1 Axes>"
      ]
     },
     "metadata": {},
     "output_type": "display_data"
    },
    {
     "name": "stdout",
     "output_type": "stream",
     "text": [
      "5\n"
     ]
    },
    {
     "data": {
      "image/png": "[encoded data removed]",
      "text/plain": [
       "<Figure size 640x480 with 1 Axes>"
      ]
     },
     "metadata": {},
     "output_type": "display_data"
    },
    {
     "name": "stdout",
     "output_type": "stream",
     "text": [
      "9\n"
     ]
    },
    {
     "data": {
      "image/png": "[encoded data removed]",
      "text/plain": [
       "<Figure size 640x480 with 1 Axes>"
      ]
     },
     "metadata": {},
     "output_type": "display_data"
    }
   ],
   "source": [
    "import matplotlib.pyplot as plt\n",
    "for i in range(10):\n",
    "    digit = test_images[i]\n",
    "    print(test_labels[i])\n",
    "    plt.imshow(digit, cmap = plt.cm.binary)\n",
    "    plt.show()"
   ]
  },
  {
   "cell_type": "code",
   "execution_count": 22,
   "id": "bfdf2d73",
   "metadata": {},
   "outputs": [],
   "source": [
    "# Переформатируем данные\n",
    "train_images = train_images.reshape((60000,28*28))\n",
    "train_images = train_images.astype('float32') / 255\n",
    "\n",
    "test_images = test_images.reshape((10000,28*28))\n",
    "test_images = test_images.astype('float32') / 255"
   ]
  },
  {
   "cell_type": "code",
   "execution_count": 26,
   "id": "9b7e6996",
   "metadata": {},
   "outputs": [],
   "source": [
    "target = []\n",
    "for i in train_labels:\n",
    "    r = [0,0,0,0,0,0,0,0,0,0]\n",
    "    r[i] = 1\n",
    "    target.append(r)"
   ]
  },
  {
   "cell_type": "code",
   "execution_count": 25,
   "id": "59dc6425",
   "metadata": {},
   "outputs": [
    {
     "data": {
      "text/plain": [
       "5"
      ]
     },
     "execution_count": 25,
     "metadata": {},
     "output_type": "execute_result"
    }
   ],
   "source": [
    "train_labels[0]"
   ]
  },
  {
   "cell_type": "code",
   "execution_count": 31,
   "id": "1b82cf15",
   "metadata": {},
   "outputs": [
    {
     "name": "stdout",
     "output_type": "stream",
     "text": [
      "The goal of learning is reached\n"
     ]
    },
    {
     "data": {
      "text/plain": [
       "[15.0, 7.5, 9.0, 3.5, 0.0]"
      ]
     },
     "execution_count": 31,
     "metadata": {},
     "output_type": "execute_result"
    }
   ],
   "source": [
    "inp = []\n",
    "for i in range(784):\n",
    "    inp.append([0,1])\n",
    "\n",
    "#Создаем однослойный перцептрон с 784 входами и 10 выходами\n",
    "MyNet = nl.net.newp(inp,10)\n",
    "\n",
    "#Обучаем однослойный перцептрон\n",
    "MyNet.train(train_images[0:30], target[0:30], epochs = 500, show = 10, goal = 0.001, lr = 0.1)"
   ]
  },
  {
   "cell_type": "code",
   "execution_count": 32,
   "id": "acc6557f",
   "metadata": {},
   "outputs": [
    {
     "name": "stdout",
     "output_type": "stream",
     "text": [
      "[[0. 0. 0. 0. 0. 1. 0. 0. 0. 0.]] [0, 0, 0, 0, 0, 1, 0, 0, 0, 0]\n",
      "[[1. 0. 0. 0. 0. 0. 0. 0. 0. 0.]] [1, 0, 0, 0, 0, 0, 0, 0, 0, 0]\n",
      "[[0. 0. 0. 0. 1. 0. 0. 0. 0. 0.]] [0, 0, 0, 0, 1, 0, 0, 0, 0, 0]\n",
      "[[0. 1. 0. 0. 0. 0. 0. 0. 0. 0.]] [0, 1, 0, 0, 0, 0, 0, 0, 0, 0]\n",
      "[[0. 0. 0. 0. 0. 0. 0. 0. 0. 1.]] [0, 0, 0, 0, 0, 0, 0, 0, 0, 1]\n",
      "[[0. 0. 1. 0. 0. 0. 0. 0. 0. 0.]] [0, 0, 1, 0, 0, 0, 0, 0, 0, 0]\n",
      "[[0. 1. 0. 0. 0. 0. 0. 0. 0. 0.]] [0, 1, 0, 0, 0, 0, 0, 0, 0, 0]\n",
      "[[0. 0. 0. 1. 0. 0. 0. 0. 0. 0.]] [0, 0, 0, 1, 0, 0, 0, 0, 0, 0]\n",
      "[[0. 1. 0. 0. 0. 0. 0. 0. 0. 0.]] [0, 1, 0, 0, 0, 0, 0, 0, 0, 0]\n",
      "[[0. 0. 0. 0. 1. 0. 0. 0. 0. 0.]] [0, 0, 0, 0, 1, 0, 0, 0, 0, 0]\n",
      "[[0. 0. 0. 1. 0. 0. 0. 0. 0. 0.]] [0, 0, 0, 1, 0, 0, 0, 0, 0, 0]\n",
      "[[0. 0. 0. 0. 0. 1. 0. 0. 0. 0.]] [0, 0, 0, 0, 0, 1, 0, 0, 0, 0]\n",
      "[[0. 0. 0. 1. 0. 0. 0. 0. 0. 0.]] [0, 0, 0, 1, 0, 0, 0, 0, 0, 0]\n",
      "[[0. 0. 0. 0. 0. 0. 1. 0. 0. 0.]] [0, 0, 0, 0, 0, 0, 1, 0, 0, 0]\n",
      "[[0. 1. 0. 0. 0. 0. 0. 0. 0. 0.]] [0, 1, 0, 0, 0, 0, 0, 0, 0, 0]\n",
      "[[0. 0. 0. 0. 0. 0. 0. 1. 0. 0.]] [0, 0, 0, 0, 0, 0, 0, 1, 0, 0]\n",
      "[[0. 0. 1. 0. 0. 0. 0. 0. 0. 0.]] [0, 0, 1, 0, 0, 0, 0, 0, 0, 0]\n",
      "[[0. 0. 0. 0. 0. 0. 0. 0. 1. 0.]] [0, 0, 0, 0, 0, 0, 0, 0, 1, 0]\n",
      "[[0. 0. 0. 0. 0. 0. 1. 0. 0. 0.]] [0, 0, 0, 0, 0, 0, 1, 0, 0, 0]\n",
      "[[0. 0. 0. 0. 0. 0. 0. 0. 0. 1.]] [0, 0, 0, 0, 0, 0, 0, 0, 0, 1]\n",
      "[[0. 0. 0. 0. 1. 0. 0. 0. 0. 0.]] [0, 0, 0, 0, 1, 0, 0, 0, 0, 0]\n",
      "[[1. 0. 0. 0. 0. 0. 0. 0. 0. 0.]] [1, 0, 0, 0, 0, 0, 0, 0, 0, 0]\n",
      "[[0. 0. 0. 0. 0. 0. 0. 0. 0. 1.]] [0, 0, 0, 0, 0, 0, 0, 0, 0, 1]\n",
      "[[0. 1. 0. 0. 0. 0. 0. 0. 0. 0.]] [0, 1, 0, 0, 0, 0, 0, 0, 0, 0]\n",
      "[[0. 1. 0. 0. 0. 0. 0. 0. 0. 0.]] [0, 1, 0, 0, 0, 0, 0, 0, 0, 0]\n",
      "[[0. 0. 1. 0. 0. 0. 0. 0. 0. 0.]] [0, 0, 1, 0, 0, 0, 0, 0, 0, 0]\n",
      "[[0. 0. 0. 0. 1. 0. 0. 0. 0. 0.]] [0, 0, 0, 0, 1, 0, 0, 0, 0, 0]\n",
      "[[0. 0. 0. 1. 0. 0. 0. 0. 0. 0.]] [0, 0, 0, 1, 0, 0, 0, 0, 0, 0]\n",
      "[[0. 0. 1. 0. 0. 0. 0. 0. 0. 0.]] [0, 0, 1, 0, 0, 0, 0, 0, 0, 0]\n",
      "[[0. 0. 0. 0. 0. 0. 0. 1. 0. 0.]] [0, 0, 0, 0, 0, 0, 0, 1, 0, 0]\n"
     ]
    }
   ],
   "source": [
    "for i in range(30):\n",
    "    print(MyNet.sim([train_images[i]]),target[i])"
   ]
  },
  {
   "cell_type": "code",
   "execution_count": 33,
   "id": "f27af281",
   "metadata": {},
   "outputs": [
    {
     "name": "stdout",
     "output_type": "stream",
     "text": [
      "[[0. 0. 0. 0. 1. 0. 0. 0. 0. 0.]] 7\n",
      "[[0. 0. 1. 0. 0. 0. 0. 0. 0. 0.]] 2\n",
      "[[0. 1. 0. 0. 0. 0. 0. 0. 0. 0.]] 1\n",
      "[[1. 0. 0. 0. 0. 0. 0. 0. 0. 0.]] 0\n",
      "[[0. 0. 0. 0. 1. 0. 0. 0. 0. 0.]] 4\n",
      "[[0. 1. 0. 0. 0. 0. 0. 0. 0. 0.]] 1\n",
      "[[0. 0. 0. 0. 1. 0. 0. 0. 0. 0.]] 4\n",
      "[[0. 0. 0. 0. 1. 0. 0. 0. 0. 0.]] 9\n",
      "[[0. 0. 0. 0. 0. 0. 0. 0. 0. 0.]] 5\n",
      "[[0. 0. 0. 0. 0. 0. 0. 0. 0. 0.]] 9\n",
      "[[1. 0. 0. 1. 0. 0. 0. 0. 0. 0.]] 0\n",
      "[[0. 0. 0. 0. 0. 0. 0. 0. 0. 0.]] 6\n",
      "[[0. 0. 0. 0. 1. 0. 0. 0. 0. 0.]] 9\n",
      "[[1. 0. 0. 0. 0. 0. 0. 0. 0. 0.]] 0\n",
      "[[0. 1. 0. 0. 0. 0. 0. 0. 0. 0.]] 1\n",
      "[[0. 0. 1. 0. 0. 0. 0. 0. 0. 0.]] 5\n",
      "[[0. 0. 0. 0. 1. 0. 0. 0. 0. 0.]] 9\n",
      "[[0. 0. 0. 0. 0. 0. 0. 0. 0. 0.]] 7\n",
      "[[0. 0. 0. 0. 0. 0. 0. 0. 0. 0.]] 3\n",
      "[[0. 0. 0. 0. 1. 0. 0. 0. 0. 0.]] 4\n",
      "[[0. 0. 0. 0. 0. 0. 0. 0. 0. 1.]] 9\n",
      "[[0. 0. 0. 0. 0. 0. 1. 0. 0. 0.]] 6\n",
      "[[0. 0. 0. 0. 0. 0. 0. 0. 0. 0.]] 6\n",
      "[[0. 0. 0. 0. 0. 0. 0. 0. 0. 0.]] 5\n",
      "[[0. 0. 0. 0. 1. 0. 0. 0. 0. 0.]] 4\n",
      "[[1. 0. 0. 0. 0. 0. 0. 0. 0. 0.]] 0\n",
      "[[0. 0. 0. 0. 1. 0. 0. 1. 0. 0.]] 7\n",
      "[[0. 0. 0. 0. 1. 0. 0. 0. 0. 0.]] 4\n",
      "[[1. 0. 0. 0. 0. 0. 0. 0. 0. 0.]] 0\n",
      "[[0. 1. 0. 0. 0. 0. 0. 0. 0. 0.]] 1\n"
     ]
    }
   ],
   "source": [
    "for i in range(30):\n",
    "    print(MyNet.sim([test_images[i]]),test_labels[i])"
   ]
  },
  {
   "cell_type": "code",
   "execution_count": 44,
   "id": "c3c136ef",
   "metadata": {},
   "outputs": [
    {
     "name": "stdout",
     "output_type": "stream",
     "text": [
      "Epoch: 100; Error: 10.767393283096332;\n",
      "Epoch: 200; Error: 5.413744577982081;\n",
      "Epoch: 300; Error: 4.373342474795724;\n",
      "Epoch: 400; Error: 3.5482768954543222;\n",
      "Epoch: 500; Error: 3.718169534966118;\n",
      "Epoch: 600; Error: 3.095207977480091;\n",
      "Epoch: 700; Error: 2.8302019658762414;\n",
      "Epoch: 800; Error: 2.697086656947329;\n",
      "Epoch: 900; Error: 2.595683077827526;\n",
      "Epoch: 1000; Error: 2.51806262869313;\n",
      "Epoch: 1100; Error: 2.455708419275386;\n",
      "Epoch: 1200; Error: 2.404199563676508;\n",
      "Epoch: 1300; Error: 2.3605059236291464;\n",
      "Epoch: 1400; Error: 2.3227452074080084;\n",
      "Epoch: 1500; Error: 2.2896572115828615;\n",
      "Epoch: 1600; Error: 2.260322808547285;\n",
      "Epoch: 1700; Error: 2.234070603119632;\n",
      "Epoch: 1800; Error: 2.210428103388411;\n",
      "Epoch: 1900; Error: 2.1890616935481733;\n",
      "Epoch: 2000; Error: 2.1697144522473226;\n",
      "Epoch: 2100; Error: 2.1521575002839244;\n",
      "Epoch: 2200; Error: 2.136156397718515;\n",
      "Epoch: 2300; Error: 2.121447680441012;\n",
      "Epoch: 2400; Error: 2.1077201621635466;\n",
      "Epoch: 2500; Error: 2.094596295062315;\n",
      "Epoch: 2600; Error: 2.0816107049552386;\n",
      "Epoch: 2700; Error: 2.0681880677819984;\n",
      "Epoch: 2800; Error: 2.0536269741128956;\n",
      "Epoch: 2900; Error: 2.0421599069448324;\n",
      "Epoch: 3000; Error: 2.0392825900463962;\n",
      "The maximum number of train epochs is reached\n"
     ]
    }
   ],
   "source": [
    "inp = []\n",
    "for i in range(784):\n",
    "    inp.append([0,1])\n",
    "\n",
    "#Создаем однослойный перцептрон с двумя входами 0(1) и одним выходом\n",
    "MyNet = nl.net.newff(inp,[8,10])\n",
    "\n",
    "MyNet.trainf = nl.train.train_gd\n",
    "\n",
    "#Обучаем однослойный перцептрон\n",
    "err = MyNet.train(train_images[0:30], target[0:30], epochs = 3000, show = 100, adapt = True, lr = 0.005)"
   ]
  },
  {
   "cell_type": "code",
   "execution_count": 46,
   "id": "92c6eb66",
   "metadata": {},
   "outputs": [
    {
     "data": {
      "text/plain": [
       "Text(0, 0.5, 'error (default MAE)')"
      ]
     },
     "execution_count": 46,
     "metadata": {},
     "output_type": "execute_result"
    },
    {
     "data": {
      "image/png": "[encoded data removed]",
      "text/plain": [
       "<Figure size 640x480 with 1 Axes>"
      ]
     },
     "metadata": {},
     "output_type": "display_data"
    }
   ],
   "source": [
    "# Визуализация результатов:\n",
    "import pylab as pl\n",
    "pl.subplot(211)\n",
    "pl.plot(err)\n",
    "pl.xlabel('Epoch number')\n",
    "pl.ylabel('error (default MAE)')"
   ]
  },
  {
   "cell_type": "code",
   "execution_count": 47,
   "id": "59a3e21d",
   "metadata": {},
   "outputs": [
    {
     "name": "stdout",
     "output_type": "stream",
     "text": [
      "[[ 0.25855211 -0.52149801 -0.48902303 -0.49698114  0.92919852  0.12379684\n",
      "   0.4333719   0.19712774  0.46523308 -0.39856503]] 7\n",
      "[[-0.00999275 -0.1095837   0.06490947 -0.87349728  0.9592893  -0.11409975\n",
      "   0.44170375 -0.13879581  0.63208413  0.09180169]] 2\n",
      "[[ 0.06944722  0.77517388 -0.52211881  0.41820245  0.85538543 -0.45735597\n",
      "  -0.30658514  0.02434737 -0.00790207  0.77017055]] 1\n",
      "[[ 0.53997747 -0.41020775  0.83567879 -0.18750461 -0.68453708 -0.33040739\n",
      "   0.26627381  0.42535022  0.55741991 -0.39205856]] 0\n",
      "[[ 0.1661835   0.02644653  0.08396527 -0.09993769  0.94581022 -0.56019592\n",
      "  -0.15657951  0.04307602  0.31874025  0.67077211]] 4\n",
      "[[ 0.00106513  0.72563703 -0.16107261  0.74736183  0.78649362  0.02433078\n",
      "  -0.3233558   0.10103041 -0.4466445   0.45651018]] 1\n",
      "[[ 0.01760437 -0.50721279 -0.06098016 -0.60867313  0.99498893 -0.46658825\n",
      "   0.37786832 -0.19395868  0.75500517 -0.17753114]] 4\n",
      "[[ 0.18705493 -0.26622827 -0.83247326  0.94659319  0.60964485 -0.58235631\n",
      "   0.13539429 -0.0097068   0.63978673  0.28979461]] 9\n",
      "[[-0.14361459 -0.03210119 -0.1935081  -0.92809847  0.86744223  0.890666\n",
      "   0.61719744  0.07833282 -0.2555643  -0.51399845]] 5\n",
      "[[ 0.11274998 -0.27007351  0.23373631  0.09449676  0.64301055  0.57138108\n",
      "   0.32033444  0.21816691 -0.12370099 -0.56107584]] 9\n",
      "[[ 0.04196382  0.2637138   0.55028556 -0.49766565  0.15772071  0.32046961\n",
      "  -0.06476753  0.14864824 -0.36223749  0.76354478]] 0\n",
      "[[ 0.0446092   0.4488467   0.5720326  -0.24811653 -0.07338559  0.14090436\n",
      "  -0.35424888  0.16838932 -0.55561203  0.93689595]] 6\n",
      "[[ 0.00918895 -0.72035554  0.29085729 -0.51570713  0.68569947 -0.01450323\n",
      "   0.56795691 -0.13654006  0.71388765  0.03409081]] 9\n",
      "[[ 0.16009279  0.0345979   0.98136771 -0.07221037 -0.32832944 -0.73105991\n",
      "  -0.22766684 -0.02711875  0.45817686  0.78398311]] 0\n",
      "[[-0.01217871  0.89582584 -0.38247914  0.77216208  0.09997561 -0.0016668\n",
      "   0.12059735 -0.0200535   0.15236242 -0.36947462]] 1\n",
      "[[ 0.1169965   0.19035211  0.75597448 -0.41857069  0.93200058 -0.61248133\n",
      "   0.10689497 -0.08181285  0.64092564 -0.09185949]] 5\n",
      "[[ 0.06036965  0.35269502  0.33873372 -0.27997472  0.43858697 -0.04936179\n",
      "  -0.32428413  0.12617939 -0.39200464  0.93251237]] 9\n",
      "[[ 0.29953509 -0.77935056 -0.68164444 -0.80725453  0.92962099  0.31691204\n",
      "   0.69875646  0.20133978  0.70012835 -0.69074348]] 7\n",
      "[[ 0.0420095   0.18654968  0.47058703 -0.39867612  0.00544929  0.00902024\n",
      "  -0.07309364  0.06348408 -0.1059384   0.87759165]] 3\n",
      "[[ 0.08859458  0.40074833  0.17488722  0.46259918  0.97398273 -0.48826657\n",
      "  -0.40150541  0.05718062 -0.11594582  0.60600225]] 4\n",
      "[[ 0.08153111  0.01602029  0.44103068  0.61536653  0.55971839 -0.59140923\n",
      "  -0.17736109 -0.04992971  0.3373202   0.75853689]] 9\n",
      "[[-0.04751544  0.15898991  0.89816926  0.47374763  0.67440505  0.51329479\n",
      "   0.06436528  0.10629347 -0.38457406 -0.67986046]] 6\n",
      "[[ 0.16264287  0.86614485 -0.39464521 -0.7343934   0.90050846  0.00435796\n",
      "  -0.10266288  0.19863649 -0.16605742  0.40271328]] 6\n",
      "[[-0.02371981 -0.373347    0.04659172  0.73641304 -0.36595241  0.42287733\n",
      "   0.38376127  0.01175718  0.15991732 -0.07306959]] 5\n",
      "[[ 0.08008032  0.45334361 -0.12763935  0.08641742  0.88474926 -0.3246371\n",
      "  -0.42205558  0.09935992 -0.3098638   0.91162047]] 4\n",
      "[[ 0.2427665  -0.91268874  0.64818065 -0.90704533  0.67062746  0.79581212\n",
      "   0.89011828  0.21739126  0.74651946 -0.98833036]] 0\n",
      "[[ 0.54540134  0.28929576 -0.34225748  0.53540927  0.82060974 -0.74392105\n",
      "  -0.36535053  0.42337821  0.26628507  0.45015008]] 7\n",
      "[[ 0.14207264 -0.02379934  0.53382533  0.11641589  0.93074745 -0.66781913\n",
      "  -0.15400037 -0.02622673  0.45297357  0.55458131]] 4\n",
      "[[ 0.12366973 -0.1166754   0.99175864  0.00526827 -0.18548967 -0.81551892\n",
      "  -0.17034472 -0.131938    0.64443829  0.6846734 ]] 0\n",
      "[[-0.02967911  0.82773165  0.30752199  0.39845784 -0.64588946  0.32062893\n",
      "   0.11917771  0.04550937 -0.13383614  0.10816737]] 1\n"
     ]
    }
   ],
   "source": [
    "for i in range(30):\n",
    "    print(MyNet.sim([test_images[i]]),test_labels[i])"
   ]
  },
  {
   "cell_type": "code",
   "execution_count": 48,
   "id": "9f01f3c8",
   "metadata": {},
   "outputs": [],
   "source": [
    "import pandas as pd"
   ]
  },
  {
   "cell_type": "code",
   "execution_count": 50,
   "id": "a39361fc",
   "metadata": {},
   "outputs": [
    {
     "data": {
      "text/html": [
       "<div>\n",
       "<style scoped>\n",
       "    .dataframe tbody tr th:only-of-type {\n",
       "        vertical-align: middle;\n",
       "    }\n",
       "\n",
       "    .dataframe tbody tr th {\n",
       "        vertical-align: top;\n",
       "    }\n",
       "\n",
       "    .dataframe thead th {\n",
       "        text-align: right;\n",
       "    }\n",
       "</style>\n",
       "<table border=\"1\" class=\"dataframe\">\n",
       "  <thead>\n",
       "    <tr style=\"text-align: right;\">\n",
       "      <th></th>\n",
       "      <th>ФИО</th>\n",
       "      <th>Дата рождения</th>\n",
       "      <th>Пол</th>\n",
       "      <th>Дата приема на работу</th>\n",
       "      <th>Оклад</th>\n",
       "      <th>Семейное положение</th>\n",
       "      <th>Кол-во детей</th>\n",
       "    </tr>\n",
       "  </thead>\n",
       "  <tbody>\n",
       "    <tr>\n",
       "      <th>0</th>\n",
       "      <td>Алистратов А.А.</td>\n",
       "      <td>27.10.1975</td>\n",
       "      <td>м</td>\n",
       "      <td>08.09.1997</td>\n",
       "      <td>4000</td>\n",
       "      <td>женат</td>\n",
       "      <td>1.0</td>\n",
       "    </tr>\n",
       "    <tr>\n",
       "      <th>1</th>\n",
       "      <td>Анохин Н.И.</td>\n",
       "      <td>11.12.1948</td>\n",
       "      <td>м</td>\n",
       "      <td>23.05.1986</td>\n",
       "      <td>5000</td>\n",
       "      <td>разведен</td>\n",
       "      <td>1.0</td>\n",
       "    </tr>\n",
       "    <tr>\n",
       "      <th>2</th>\n",
       "      <td>Антонова И.П.</td>\n",
       "      <td>04.12.1951</td>\n",
       "      <td>ж</td>\n",
       "      <td>09.05.1988</td>\n",
       "      <td>4300</td>\n",
       "      <td>замужем</td>\n",
       "      <td>1.0</td>\n",
       "    </tr>\n",
       "    <tr>\n",
       "      <th>3</th>\n",
       "      <td>Артемова Г.А.</td>\n",
       "      <td>06.08.1979</td>\n",
       "      <td>ж</td>\n",
       "      <td>05.09.1997</td>\n",
       "      <td>4500</td>\n",
       "      <td>незамужем</td>\n",
       "      <td>NaN</td>\n",
       "    </tr>\n",
       "    <tr>\n",
       "      <th>4</th>\n",
       "      <td>Афоничева Л.К.</td>\n",
       "      <td>09.01.1952</td>\n",
       "      <td>ж</td>\n",
       "      <td>05.10.1985</td>\n",
       "      <td>4900</td>\n",
       "      <td>замужем</td>\n",
       "      <td>1.0</td>\n",
       "    </tr>\n",
       "    <tr>\n",
       "      <th>...</th>\n",
       "      <td>...</td>\n",
       "      <td>...</td>\n",
       "      <td>...</td>\n",
       "      <td>...</td>\n",
       "      <td>...</td>\n",
       "      <td>...</td>\n",
       "      <td>...</td>\n",
       "    </tr>\n",
       "    <tr>\n",
       "      <th>95</th>\n",
       "      <td>Шафеева Н.К.</td>\n",
       "      <td>29.07.1939</td>\n",
       "      <td>ж</td>\n",
       "      <td>09.12.1985</td>\n",
       "      <td>4500</td>\n",
       "      <td>замужем</td>\n",
       "      <td>1.0</td>\n",
       "    </tr>\n",
       "    <tr>\n",
       "      <th>96</th>\n",
       "      <td>Шиманюк Н.И.</td>\n",
       "      <td>06.11.1979</td>\n",
       "      <td>м</td>\n",
       "      <td>23.11.1998</td>\n",
       "      <td>4000</td>\n",
       "      <td>холост</td>\n",
       "      <td>NaN</td>\n",
       "    </tr>\n",
       "    <tr>\n",
       "      <th>97</th>\n",
       "      <td>Элиава Т.М.</td>\n",
       "      <td>19.05.1981</td>\n",
       "      <td>м</td>\n",
       "      <td>10.09.1997</td>\n",
       "      <td>3700</td>\n",
       "      <td>холост</td>\n",
       "      <td>NaN</td>\n",
       "    </tr>\n",
       "    <tr>\n",
       "      <th>98</th>\n",
       "      <td>Якимова Н.М.</td>\n",
       "      <td>16.05.1973</td>\n",
       "      <td>ж</td>\n",
       "      <td>07.09.1999</td>\n",
       "      <td>3000</td>\n",
       "      <td>замужем</td>\n",
       "      <td>2.0</td>\n",
       "    </tr>\n",
       "    <tr>\n",
       "      <th>99</th>\n",
       "      <td>Яфарова Т.Н.</td>\n",
       "      <td>04.09.1945</td>\n",
       "      <td>ж</td>\n",
       "      <td>21.03.1986</td>\n",
       "      <td>4000</td>\n",
       "      <td>замужем</td>\n",
       "      <td>2.0</td>\n",
       "    </tr>\n",
       "  </tbody>\n",
       "</table>\n",
       "<p>100 rows × 7 columns</p>\n",
       "</div>"
      ],
      "text/plain": [
       "                ФИО Дата рождения Пол Дата приема на работу  Оклад  \\\n",
       "0   Алистратов А.А.    27.10.1975   м            08.09.1997   4000   \n",
       "1       Анохин Н.И.    11.12.1948   м            23.05.1986   5000   \n",
       "2     Антонова И.П.    04.12.1951   ж            09.05.1988   4300   \n",
       "3     Артемова Г.А.    06.08.1979   ж            05.09.1997   4500   \n",
       "4    Афоничева Л.К.    09.01.1952   ж            05.10.1985   4900   \n",
       "..              ...           ...  ..                   ...    ...   \n",
       "95     Шафеева Н.К.    29.07.1939   ж            09.12.1985   4500   \n",
       "96     Шиманюк Н.И.    06.11.1979   м            23.11.1998   4000   \n",
       "97      Элиава Т.М.    19.05.1981   м            10.09.1997   3700   \n",
       "98     Якимова Н.М.    16.05.1973   ж            07.09.1999   3000   \n",
       "99     Яфарова Т.Н.    04.09.1945   ж            21.03.1986   4000   \n",
       "\n",
       "   Семейное положение  Кол-во детей  \n",
       "0               женат           1.0  \n",
       "1            разведен           1.0  \n",
       "2             замужем           1.0  \n",
       "3           незамужем           NaN  \n",
       "4             замужем           1.0  \n",
       "..                ...           ...  \n",
       "95            замужем           1.0  \n",
       "96             холост           NaN  \n",
       "97             холост           NaN  \n",
       "98            замужем           2.0  \n",
       "99            замужем           2.0  \n",
       "\n",
       "[100 rows x 7 columns]"
      ]
     },
     "execution_count": 50,
     "metadata": {},
     "output_type": "execute_result"
    }
   ],
   "source": [
    "D = pd.read_csv(\"https://raw.githubusercontent.com/junaart/ForStudents/refs/heads/main/AI/data_1.csv\", sep =\",\")\n",
    "D"
   ]
  },
  {
   "cell_type": "code",
   "execution_count": 51,
   "id": "d2282fed",
   "metadata": {},
   "outputs": [],
   "source": [
    "from sklearn import preprocessing"
   ]
  },
  {
   "cell_type": "code",
   "execution_count": 56,
   "id": "f3ee86e6",
   "metadata": {},
   "outputs": [
    {
     "data": {
      "text/html": [
       "<div>\n",
       "<style scoped>\n",
       "    .dataframe tbody tr th:only-of-type {\n",
       "        vertical-align: middle;\n",
       "    }\n",
       "\n",
       "    .dataframe tbody tr th {\n",
       "        vertical-align: top;\n",
       "    }\n",
       "\n",
       "    .dataframe thead th {\n",
       "        text-align: right;\n",
       "    }\n",
       "</style>\n",
       "<table border=\"1\" class=\"dataframe\">\n",
       "  <thead>\n",
       "    <tr style=\"text-align: right;\">\n",
       "      <th></th>\n",
       "      <th>Пол</th>\n",
       "      <th>Оклад</th>\n",
       "      <th>Семья</th>\n",
       "      <th>Дети</th>\n",
       "    </tr>\n",
       "  </thead>\n",
       "  <tbody>\n",
       "    <tr>\n",
       "      <th>0</th>\n",
       "      <td>1.224745</td>\n",
       "      <td>-0.438113</td>\n",
       "      <td>-1.399487</td>\n",
       "      <td>1.0</td>\n",
       "    </tr>\n",
       "    <tr>\n",
       "      <th>1</th>\n",
       "      <td>1.224745</td>\n",
       "      <td>0.646326</td>\n",
       "      <td>1.108684</td>\n",
       "      <td>1.0</td>\n",
       "    </tr>\n",
       "    <tr>\n",
       "      <th>2</th>\n",
       "      <td>-0.816497</td>\n",
       "      <td>-0.112782</td>\n",
       "      <td>-0.218102</td>\n",
       "      <td>1.0</td>\n",
       "    </tr>\n",
       "    <tr>\n",
       "      <th>3</th>\n",
       "      <td>-0.816497</td>\n",
       "      <td>0.104106</td>\n",
       "      <td>0.799707</td>\n",
       "      <td>0.0</td>\n",
       "    </tr>\n",
       "    <tr>\n",
       "      <th>4</th>\n",
       "      <td>-0.816497</td>\n",
       "      <td>0.537882</td>\n",
       "      <td>-0.218102</td>\n",
       "      <td>1.0</td>\n",
       "    </tr>\n",
       "    <tr>\n",
       "      <th>...</th>\n",
       "      <td>...</td>\n",
       "      <td>...</td>\n",
       "      <td>...</td>\n",
       "      <td>...</td>\n",
       "    </tr>\n",
       "    <tr>\n",
       "      <th>95</th>\n",
       "      <td>-0.816497</td>\n",
       "      <td>0.104106</td>\n",
       "      <td>-0.218102</td>\n",
       "      <td>1.0</td>\n",
       "    </tr>\n",
       "    <tr>\n",
       "      <th>96</th>\n",
       "      <td>1.224745</td>\n",
       "      <td>-0.438113</td>\n",
       "      <td>1.563063</td>\n",
       "      <td>0.0</td>\n",
       "    </tr>\n",
       "    <tr>\n",
       "      <th>97</th>\n",
       "      <td>1.224745</td>\n",
       "      <td>-0.763445</td>\n",
       "      <td>1.563063</td>\n",
       "      <td>0.0</td>\n",
       "    </tr>\n",
       "    <tr>\n",
       "      <th>98</th>\n",
       "      <td>-0.816497</td>\n",
       "      <td>-1.522553</td>\n",
       "      <td>-0.218102</td>\n",
       "      <td>2.0</td>\n",
       "    </tr>\n",
       "    <tr>\n",
       "      <th>99</th>\n",
       "      <td>-0.816497</td>\n",
       "      <td>-0.438113</td>\n",
       "      <td>-0.218102</td>\n",
       "      <td>2.0</td>\n",
       "    </tr>\n",
       "  </tbody>\n",
       "</table>\n",
       "<p>100 rows × 4 columns</p>\n",
       "</div>"
      ],
      "text/plain": [
       "         Пол     Оклад     Семья  Дети\n",
       "0   1.224745 -0.438113 -1.399487   1.0\n",
       "1   1.224745  0.646326  1.108684   1.0\n",
       "2  -0.816497 -0.112782 -0.218102   1.0\n",
       "3  -0.816497  0.104106  0.799707   0.0\n",
       "4  -0.816497  0.537882 -0.218102   1.0\n",
       "..       ...       ...       ...   ...\n",
       "95 -0.816497  0.104106 -0.218102   1.0\n",
       "96  1.224745 -0.438113  1.563063   0.0\n",
       "97  1.224745 -0.763445  1.563063   0.0\n",
       "98 -0.816497 -1.522553 -0.218102   2.0\n",
       "99 -0.816497 -0.438113 -0.218102   2.0\n",
       "\n",
       "[100 rows x 4 columns]"
      ]
     },
     "metadata": {},
     "output_type": "display_data"
    }
   ],
   "source": [
    "D_n = pd.DataFrame({'Пол': preprocessing.scale(D['Пол'].rank()),\n",
    "                    'Оклад': preprocessing.scale(D['Оклад']),\n",
    "                    'Семья': preprocessing.scale(D['Семейное положение'].rank()),\n",
    "                    'Дети': [0 if (np.isnan(i)) else i for i in D['Кол-во детей']]})\n",
    "display(D_n)\n"
   ]
  },
  {
   "cell_type": "code",
   "execution_count": 64,
   "id": "0a6c08cc",
   "metadata": {},
   "outputs": [],
   "source": [
    "from keras.utils import to_categorical\n",
    "train_set = D_n.iloc[0:81, 0:5]\n",
    "train_labels = to_categorical([i if i == 0 else 1 for i in list(D_n.iloc[0:81, ]['Дети'])])\n",
    "test_set = D_n.iloc[81:100, 0:5]\n",
    "test_labels = to_categorical([i if i == 0 else 1 for i in list(D_n.iloc[81:100, ]['Дети'])])"
   ]
  },
  {
   "cell_type": "code",
   "execution_count": 67,
   "id": "2a333ea6",
   "metadata": {},
   "outputs": [
    {
     "ename": "AssertionError",
     "evalue": "",
     "output_type": "error",
     "traceback": [
      "\u001b[31m---------------------------------------------------------------------------\u001b[39m",
      "\u001b[31mAssertionError\u001b[39m                            Traceback (most recent call last)",
      "\u001b[36mCell\u001b[39m\u001b[36m \u001b[39m\u001b[32mIn[67]\u001b[39m\u001b[32m, line 9\u001b[39m\n\u001b[32m      5\u001b[39m MyNet = nl.net.newff(inp,[\u001b[32m10\u001b[39m,\u001b[32m5\u001b[39m,\u001b[32m7\u001b[39m,\u001b[32m2\u001b[39m])\n\u001b[32m      7\u001b[39m MyNet.trainf = nl.train.train_gdm\n\u001b[32m----> \u001b[39m\u001b[32m9\u001b[39m err = \u001b[43mMyNet\u001b[49m\u001b[43m.\u001b[49m\u001b[43mtrain\u001b[49m\u001b[43m(\u001b[49m\u001b[43mtrain_set\u001b[49m\u001b[43m,\u001b[49m\u001b[43m \u001b[49m\u001b[43mtrain_labels\u001b[49m\u001b[43m,\u001b[49m\u001b[43m \u001b[49m\u001b[43mepochs\u001b[49m\u001b[43m \u001b[49m\u001b[43m=\u001b[49m\u001b[43m \u001b[49m\u001b[32;43m5000\u001b[39;49m\u001b[43m,\u001b[49m\u001b[43m \u001b[49m\u001b[43mshow\u001b[49m\u001b[43m \u001b[49m\u001b[43m=\u001b[49m\u001b[43m \u001b[49m\u001b[32;43m100\u001b[39;49m\u001b[43m,\u001b[49m\u001b[43m \u001b[49m\u001b[43madapt\u001b[49m\u001b[43m \u001b[49m\u001b[43m=\u001b[49m\u001b[43m \u001b[49m\u001b[38;5;28;43;01mTrue\u001b[39;49;00m\u001b[43m,\u001b[49m\u001b[43m \u001b[49m\u001b[43mlr\u001b[49m\u001b[43m \u001b[49m\u001b[43m=\u001b[49m\u001b[43m \u001b[49m\u001b[32;43m0.005\u001b[39;49m\u001b[43m)\u001b[49m\n",
      "\u001b[36mFile \u001b[39m\u001b[32m/usr/local/python/3.12.1/lib/python3.12/site-packages/neurolab/core.py:165\u001b[39m, in \u001b[36mNet.train\u001b[39m\u001b[34m(self, *args, **kwargs)\u001b[39m\n\u001b[32m    159\u001b[39m \u001b[38;5;28;01mdef\u001b[39;00m\u001b[38;5;250m \u001b[39m\u001b[34mtrain\u001b[39m(\u001b[38;5;28mself\u001b[39m, *args, **kwargs):\n\u001b[32m    160\u001b[39m \u001b[38;5;250m    \u001b[39m\u001b[33;03m\"\"\"\u001b[39;00m\n\u001b[32m    161\u001b[39m \u001b[33;03m    Train network\u001b[39;00m\n\u001b[32m    162\u001b[39m \u001b[33;03m    see net.trainf.__doc__\u001b[39;00m\n\u001b[32m    163\u001b[39m \n\u001b[32m    164\u001b[39m \u001b[33;03m    \"\"\"\u001b[39;00m\n\u001b[32m--> \u001b[39m\u001b[32m165\u001b[39m     \u001b[38;5;28;01mreturn\u001b[39;00m \u001b[38;5;28;43mself\u001b[39;49m\u001b[43m.\u001b[49m\u001b[43mtrainf\u001b[49m\u001b[43m(\u001b[49m\u001b[38;5;28;43mself\u001b[39;49m\u001b[43m,\u001b[49m\u001b[43m \u001b[49m\u001b[43m*\u001b[49m\u001b[43margs\u001b[49m\u001b[43m,\u001b[49m\u001b[43m \u001b[49m\u001b[43m*\u001b[49m\u001b[43m*\u001b[49m\u001b[43mkwargs\u001b[49m\u001b[43m)\u001b[49m\n",
      "\u001b[36mFile \u001b[39m\u001b[32m/usr/local/python/3.12.1/lib/python3.12/site-packages/neurolab/core.py:322\u001b[39m, in \u001b[36mTrainer.__call__\u001b[39m\u001b[34m(self, net, input, target, **kwargs)\u001b[39m\n\u001b[32m    320\u001b[39m \u001b[38;5;28minput\u001b[39m = np.asfarray(\u001b[38;5;28minput\u001b[39m)\n\u001b[32m    321\u001b[39m \u001b[38;5;28;01massert\u001b[39;00m \u001b[38;5;28minput\u001b[39m.ndim == \u001b[32m2\u001b[39m\n\u001b[32m--> \u001b[39m\u001b[32m322\u001b[39m \u001b[38;5;28;01massert\u001b[39;00m \u001b[38;5;28minput\u001b[39m.shape[\u001b[32m1\u001b[39m] == net.ci\n\u001b[32m    323\u001b[39m args.append(\u001b[38;5;28minput\u001b[39m)\n\u001b[32m    324\u001b[39m \u001b[38;5;28;01mif\u001b[39;00m target \u001b[38;5;129;01mis\u001b[39;00m \u001b[38;5;129;01mnot\u001b[39;00m \u001b[38;5;28;01mNone\u001b[39;00m:\n",
      "\u001b[31mAssertionError\u001b[39m: "
     ]
    }
   ],
   "source": [
    "inp = []\n",
    "for i in range(3):\n",
    "    inp.append([0,1])\n",
    "\n",
    "MyNet = nl.net.newff(inp,[10,5,7,2])\n",
    "\n",
    "MyNet.trainf = nl.train.train_gdm\n",
    "\n",
    "err = MyNet.train(train_set, train_labels, epochs = 5000, show = 100, adapt = True, lr = 0.005)"
   ]
  },
  {
   "cell_type": "code",
   "execution_count": null,
   "id": "dfcb8b0a",
   "metadata": {},
   "outputs": [],
   "source": []
  }
 ],
 "metadata": {
  "kernelspec": {
   "display_name": "Python 3",
   "language": "python",
   "name": "python3"
  },
  "language_info": {
   "codemirror_mode": {
    "name": "ipython",
    "version": 3
   },
   "file_extension": ".py",
   "mimetype": "text/x-python",
   "name": "python",
   "nbconvert_exporter": "python",
   "pygments_lexer": "ipython3",
   "version": "3.12.1"
  }
 },
 "nbformat": 4,
 "nbformat_minor": 5
}
